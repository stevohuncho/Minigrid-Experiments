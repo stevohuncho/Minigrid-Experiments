{
 "cells": [
  {
   "cell_type": "code",
   "execution_count": 2,
   "metadata": {},
   "outputs": [],
   "source": [
    "import minigrid\n",
    "from minigrid.wrappers import ImgObsWrapper\n",
    "from stable_baselines3 import PPO\n",
    "import gymnasium as gym\n",
    "import matplotlib.pyplot as plt\n",
    "from features_extractor import MinigridFeaturesExtractor\n",
    "import os"
   ]
  },
  {
   "cell_type": "markdown",
   "metadata": {},
   "source": [
    "## Prepare Workspace"
   ]
  },
  {
   "cell_type": "code",
   "execution_count": 3,
   "metadata": {},
   "outputs": [],
   "source": [
    "os.makedirs(\"./models\", exist_ok=True)\n",
    "os.makedirs(\"./results\", exist_ok=True)\n",
    "CONTROL_MODEL_PATH = \"./models/ppo_control\"\n",
    "TRANSFER_MODEL_PATH = \"./models/ppo_transfer\""
   ]
  },
  {
   "cell_type": "markdown",
   "metadata": {},
   "source": [
    "## Train Control Model"
   ]
  },
  {
   "cell_type": "code",
   "execution_count": 4,
   "metadata": {},
   "outputs": [
    {
     "data": {
      "application/vnd.jupyter.widget-view+json": {
       "model_id": "8709dd6ce2db4543b012f2677edd00a9",
       "version_major": 2,
       "version_minor": 0
      },
      "text/plain": [
       "Output()"
      ]
     },
     "metadata": {},
     "output_type": "display_data"
    },
    {
     "data": {
      "text/html": [
       "<pre style=\"white-space:pre;overflow-x:auto;line-height:normal;font-family:Menlo,'DejaVu Sans Mono',consolas,'Courier New',monospace\"></pre>\n"
      ],
      "text/plain": []
     },
     "metadata": {},
     "output_type": "display_data"
    },
    {
     "data": {
      "text/html": [
       "<pre style=\"white-space:pre;overflow-x:auto;line-height:normal;font-family:Menlo,'DejaVu Sans Mono',consolas,'Courier New',monospace\">\n",
       "</pre>\n"
      ],
      "text/plain": [
       "\n"
      ]
     },
     "metadata": {},
     "output_type": "display_data"
    }
   ],
   "source": [
    "policy_kwargs = dict(\n",
    "    features_extractor_class=MinigridFeaturesExtractor,\n",
    "    features_extractor_kwargs=dict(features_dim=128),\n",
    ")\n",
    "env = gym.make(\"MiniGrid-UnlockPickup-v0\", render_mode=\"rgb_array\")\n",
    "env = ImgObsWrapper(env)\n",
    "model = PPO(\"CnnPolicy\", env, policy_kwargs=policy_kwargs)\n",
    "model.learn(1e5, progress_bar=True)\n",
    "model.save(CONTROL_MODEL_PATH)"
   ]
  },
  {
   "cell_type": "markdown",
   "metadata": {},
   "source": [
    "## Train Transfer Model"
   ]
  },
  {
   "cell_type": "code",
   "execution_count": 5,
   "metadata": {},
   "outputs": [],
   "source": [
    "policy_kwargs = dict(\n",
    "    features_extractor_class=MinigridFeaturesExtractor,\n",
    "    features_extractor_kwargs=dict(features_dim=128),\n",
    ")\n",
    "\n",
    "# pretraining on simpler env\n",
    "env = gym.make(\"MiniGrid-Unlock-v0\", render_mode=\"rgb_array\")\n",
    "env = ImgObsWrapper(env)\n",
    "model = PPO(\"CnnPolicy\", env, policy_kwargs=policy_kwargs)\n",
    "model.learn(1e2)\n",
    "model.save(TRANSFER_MODEL_PATH)\n",
    "\n",
    "# train on final env\n",
    "env = gym.make(\"MiniGrid-UnlockPickup-v0\", render_mode=\"rgb_array\")\n",
    "env = ImgObsWrapper(env)\n",
    "model = PPO.load(TRANSFER_MODEL_PATH, env=env)\n",
    "model.learn(1e5)\n",
    "model.save(TRANSFER_MODEL_PATH)"
   ]
  },
  {
   "cell_type": "markdown",
   "metadata": {},
   "source": [
    "## Evalutation Tool"
   ]
  },
  {
   "cell_type": "code",
   "execution_count": 7,
   "metadata": {},
   "outputs": [],
   "source": [
    "def eval(\n",
    "    env: ImgObsWrapper,\n",
    "    model: PPO,\n",
    "    eps: int,\n",
    "    graph_label: str,\n",
    "    color: str\n",
    ") -> None:\n",
    "    rewards = [0]\n",
    "    total_rewards = 0\n",
    "    for i in range(eps):\n",
    "        steps = 0\n",
    "        obs, _ = env.reset()\n",
    "        while True:\n",
    "            action, _state = model.predict(obs)\n",
    "            obs, _reward, terminated, trunctated, info = env.step(action)\n",
    "            steps += 1\n",
    "            if terminated or trunctated:\n",
    "                total_rewards += _reward\n",
    "                rewards.append(total_rewards)\n",
    "                #print(f'eval_ep: {i+1}/{eps} | current_reward: {_reward} | total_rewards: {total_rewards}', end='\\r')\n",
    "                obs = env.reset()\n",
    "                break\n",
    "    print(f'\\nfinished evaluating {eps} eps. total_rewards: {total_rewards}')\n",
    "    plt.figure(figsize=(15,5))\n",
    "    plt.xlim(0, eps)\n",
    "    plt.plot(rewards, linestyle=\"-\", color=color)\n",
    "    plt.title(graph_label, fontname='sans-serif', fontsize=14, fontstyle='italic')\n",
    "    plt.xlabel(\"Episode\", fontname='sans-serif', fontweight=\"semibold\")\n",
    "    plt.ylabel(\"Reward\", fontname='sans-serif', fontweight=\"semibold\")\n",
    "    plt.savefig(f'./results/{graph_label.replace(\" \", \"_\")}_eval_rewards.png')"
   ]
  },
  {
   "cell_type": "markdown",
   "metadata": {},
   "source": [
    "## Evaluate"
   ]
  },
  {
   "cell_type": "code",
   "execution_count": 9,
   "metadata": {},
   "outputs": [
    {
     "ename": "KeyboardInterrupt",
     "evalue": "",
     "output_type": "error",
     "traceback": [
      "\u001b[0;31m---------------------------------------------------------------------------\u001b[0m",
      "\u001b[0;31mKeyboardInterrupt\u001b[0m                         Traceback (most recent call last)",
      "\u001b[1;32m/Users/stevohuncho/Desktop/Gitlab Repos/Minigrid-Experiments/transfer-unlock.ipynb Cell 11\u001b[0m line \u001b[0;36m5\n\u001b[1;32m      <a href='vscode-notebook-cell:/Users/stevohuncho/Desktop/Gitlab%20Repos/Minigrid-Experiments/transfer-unlock.ipynb#X20sZmlsZQ%3D%3D?line=2'>3</a>\u001b[0m model_ctrl \u001b[39m=\u001b[39m PPO\u001b[39m.\u001b[39mload(CONTROL_MODEL_PATH, env\u001b[39m=\u001b[39menv)\n\u001b[1;32m      <a href='vscode-notebook-cell:/Users/stevohuncho/Desktop/Gitlab%20Repos/Minigrid-Experiments/transfer-unlock.ipynb#X20sZmlsZQ%3D%3D?line=3'>4</a>\u001b[0m _, obs \u001b[39m=\u001b[39m env\u001b[39m.\u001b[39mreset()\n\u001b[0;32m----> <a href='vscode-notebook-cell:/Users/stevohuncho/Desktop/Gitlab%20Repos/Minigrid-Experiments/transfer-unlock.ipynb#X20sZmlsZQ%3D%3D?line=4'>5</a>\u001b[0m \u001b[39meval\u001b[39;49m(env, model, \u001b[39m100\u001b[39;49m, \u001b[39m\"\u001b[39;49m\u001b[39mPPO Control\u001b[39;49m\u001b[39m\"\u001b[39;49m, \u001b[39m\"\u001b[39;49m\u001b[39mred\u001b[39;49m\u001b[39m\"\u001b[39;49m)\n\u001b[1;32m      <a href='vscode-notebook-cell:/Users/stevohuncho/Desktop/Gitlab%20Repos/Minigrid-Experiments/transfer-unlock.ipynb#X20sZmlsZQ%3D%3D?line=6'>7</a>\u001b[0m env \u001b[39m=\u001b[39m gym\u001b[39m.\u001b[39mmake(\u001b[39m\"\u001b[39m\u001b[39mMiniGrid-UnlockPickup-v0\u001b[39m\u001b[39m\"\u001b[39m, render_mode\u001b[39m=\u001b[39m\u001b[39m\"\u001b[39m\u001b[39mrgb_array\u001b[39m\u001b[39m\"\u001b[39m)\n\u001b[1;32m      <a href='vscode-notebook-cell:/Users/stevohuncho/Desktop/Gitlab%20Repos/Minigrid-Experiments/transfer-unlock.ipynb#X20sZmlsZQ%3D%3D?line=7'>8</a>\u001b[0m env \u001b[39m=\u001b[39m ImgObsWrapper(env)\n",
      "\u001b[1;32m/Users/stevohuncho/Desktop/Gitlab Repos/Minigrid-Experiments/transfer-unlock.ipynb Cell 11\u001b[0m line \u001b[0;36m1\n\u001b[1;32m     <a href='vscode-notebook-cell:/Users/stevohuncho/Desktop/Gitlab%20Repos/Minigrid-Experiments/transfer-unlock.ipynb#X20sZmlsZQ%3D%3D?line=12'>13</a>\u001b[0m \u001b[39mwhile\u001b[39;00m \u001b[39mTrue\u001b[39;00m:\n\u001b[1;32m     <a href='vscode-notebook-cell:/Users/stevohuncho/Desktop/Gitlab%20Repos/Minigrid-Experiments/transfer-unlock.ipynb#X20sZmlsZQ%3D%3D?line=13'>14</a>\u001b[0m     action, _state \u001b[39m=\u001b[39m model\u001b[39m.\u001b[39mpredict(obs)\n\u001b[0;32m---> <a href='vscode-notebook-cell:/Users/stevohuncho/Desktop/Gitlab%20Repos/Minigrid-Experiments/transfer-unlock.ipynb#X20sZmlsZQ%3D%3D?line=14'>15</a>\u001b[0m     obs, _reward, terminated, trunctated, info \u001b[39m=\u001b[39m env\u001b[39m.\u001b[39;49mstep(action)\n\u001b[1;32m     <a href='vscode-notebook-cell:/Users/stevohuncho/Desktop/Gitlab%20Repos/Minigrid-Experiments/transfer-unlock.ipynb#X20sZmlsZQ%3D%3D?line=15'>16</a>\u001b[0m     steps \u001b[39m+\u001b[39m\u001b[39m=\u001b[39m \u001b[39m1\u001b[39m\n\u001b[1;32m     <a href='vscode-notebook-cell:/Users/stevohuncho/Desktop/Gitlab%20Repos/Minigrid-Experiments/transfer-unlock.ipynb#X20sZmlsZQ%3D%3D?line=16'>17</a>\u001b[0m     \u001b[39mif\u001b[39;00m terminated \u001b[39mor\u001b[39;00m trunctated:\n",
      "File \u001b[0;32m~/anaconda3/lib/python3.10/site-packages/gymnasium/core.py:469\u001b[0m, in \u001b[0;36mObservationWrapper.step\u001b[0;34m(self, action)\u001b[0m\n\u001b[1;32m    465\u001b[0m \u001b[39mdef\u001b[39;00m \u001b[39mstep\u001b[39m(\n\u001b[1;32m    466\u001b[0m     \u001b[39mself\u001b[39m, action: ActType\n\u001b[1;32m    467\u001b[0m ) \u001b[39m-\u001b[39m\u001b[39m>\u001b[39m \u001b[39mtuple\u001b[39m[WrapperObsType, SupportsFloat, \u001b[39mbool\u001b[39m, \u001b[39mbool\u001b[39m, \u001b[39mdict\u001b[39m[\u001b[39mstr\u001b[39m, Any]]:\n\u001b[1;32m    468\u001b[0m \u001b[39m    \u001b[39m\u001b[39m\"\"\"Modifies the :attr:`env` after calling :meth:`step` using :meth:`self.observation` on the returned observations.\"\"\"\u001b[39;00m\n\u001b[0;32m--> 469\u001b[0m     observation, reward, terminated, truncated, info \u001b[39m=\u001b[39m \u001b[39mself\u001b[39;49m\u001b[39m.\u001b[39;49menv\u001b[39m.\u001b[39;49mstep(action)\n\u001b[1;32m    470\u001b[0m     \u001b[39mreturn\u001b[39;00m \u001b[39mself\u001b[39m\u001b[39m.\u001b[39mobservation(observation), reward, terminated, truncated, info\n",
      "File \u001b[0;32m~/anaconda3/lib/python3.10/site-packages/gymnasium/wrappers/order_enforcing.py:56\u001b[0m, in \u001b[0;36mOrderEnforcing.step\u001b[0;34m(self, action)\u001b[0m\n\u001b[1;32m     54\u001b[0m \u001b[39mif\u001b[39;00m \u001b[39mnot\u001b[39;00m \u001b[39mself\u001b[39m\u001b[39m.\u001b[39m_has_reset:\n\u001b[1;32m     55\u001b[0m     \u001b[39mraise\u001b[39;00m ResetNeeded(\u001b[39m\"\u001b[39m\u001b[39mCannot call env.step() before calling env.reset()\u001b[39m\u001b[39m\"\u001b[39m)\n\u001b[0;32m---> 56\u001b[0m \u001b[39mreturn\u001b[39;00m \u001b[39mself\u001b[39;49m\u001b[39m.\u001b[39;49menv\u001b[39m.\u001b[39;49mstep(action)\n",
      "File \u001b[0;32m~/anaconda3/lib/python3.10/site-packages/gymnasium/wrappers/env_checker.py:49\u001b[0m, in \u001b[0;36mPassiveEnvChecker.step\u001b[0;34m(self, action)\u001b[0m\n\u001b[1;32m     47\u001b[0m     \u001b[39mreturn\u001b[39;00m env_step_passive_checker(\u001b[39mself\u001b[39m\u001b[39m.\u001b[39menv, action)\n\u001b[1;32m     48\u001b[0m \u001b[39melse\u001b[39;00m:\n\u001b[0;32m---> 49\u001b[0m     \u001b[39mreturn\u001b[39;00m \u001b[39mself\u001b[39;49m\u001b[39m.\u001b[39;49menv\u001b[39m.\u001b[39;49mstep(action)\n",
      "File \u001b[0;32m~/anaconda3/lib/python3.10/site-packages/minigrid/envs/unlockpickup.py:99\u001b[0m, in \u001b[0;36mUnlockPickupEnv.step\u001b[0;34m(self, action)\u001b[0m\n\u001b[1;32m     98\u001b[0m \u001b[39mdef\u001b[39;00m \u001b[39mstep\u001b[39m(\u001b[39mself\u001b[39m, action):\n\u001b[0;32m---> 99\u001b[0m     obs, reward, terminated, truncated, info \u001b[39m=\u001b[39m \u001b[39msuper\u001b[39;49m()\u001b[39m.\u001b[39;49mstep(action)\n\u001b[1;32m    101\u001b[0m     \u001b[39mif\u001b[39;00m action \u001b[39m==\u001b[39m \u001b[39mself\u001b[39m\u001b[39m.\u001b[39mactions\u001b[39m.\u001b[39mpickup:\n\u001b[1;32m    102\u001b[0m         \u001b[39mif\u001b[39;00m \u001b[39mself\u001b[39m\u001b[39m.\u001b[39mcarrying \u001b[39mand\u001b[39;00m \u001b[39mself\u001b[39m\u001b[39m.\u001b[39mcarrying \u001b[39m==\u001b[39m \u001b[39mself\u001b[39m\u001b[39m.\u001b[39mobj:\n",
      "File \u001b[0;32m~/anaconda3/lib/python3.10/site-packages/minigrid/minigrid_env.py:582\u001b[0m, in \u001b[0;36mMiniGridEnv.step\u001b[0;34m(self, action)\u001b[0m\n\u001b[1;32m    579\u001b[0m     truncated \u001b[39m=\u001b[39m \u001b[39mTrue\u001b[39;00m\n\u001b[1;32m    581\u001b[0m \u001b[39mif\u001b[39;00m \u001b[39mself\u001b[39m\u001b[39m.\u001b[39mrender_mode \u001b[39m==\u001b[39m \u001b[39m\"\u001b[39m\u001b[39mhuman\u001b[39m\u001b[39m\"\u001b[39m:\n\u001b[0;32m--> 582\u001b[0m     \u001b[39mself\u001b[39;49m\u001b[39m.\u001b[39;49mrender()\n\u001b[1;32m    584\u001b[0m obs \u001b[39m=\u001b[39m \u001b[39mself\u001b[39m\u001b[39m.\u001b[39mgen_obs()\n\u001b[1;32m    586\u001b[0m \u001b[39mreturn\u001b[39;00m obs, reward, terminated, truncated, {}\n",
      "File \u001b[0;32m~/anaconda3/lib/python3.10/site-packages/minigrid/minigrid_env.py:772\u001b[0m, in \u001b[0;36mMiniGridEnv.render\u001b[0;34m(self)\u001b[0m\n\u001b[1;32m    770\u001b[0m     \u001b[39mself\u001b[39m\u001b[39m.\u001b[39mwindow\u001b[39m.\u001b[39mblit(bg, (\u001b[39m0\u001b[39m, \u001b[39m0\u001b[39m))\n\u001b[1;32m    771\u001b[0m     pygame\u001b[39m.\u001b[39mevent\u001b[39m.\u001b[39mpump()\n\u001b[0;32m--> 772\u001b[0m     \u001b[39mself\u001b[39;49m\u001b[39m.\u001b[39;49mclock\u001b[39m.\u001b[39;49mtick(\u001b[39mself\u001b[39;49m\u001b[39m.\u001b[39;49mmetadata[\u001b[39m\"\u001b[39;49m\u001b[39mrender_fps\u001b[39;49m\u001b[39m\"\u001b[39;49m])\n\u001b[1;32m    773\u001b[0m     pygame\u001b[39m.\u001b[39mdisplay\u001b[39m.\u001b[39mflip()\n\u001b[1;32m    775\u001b[0m \u001b[39melif\u001b[39;00m \u001b[39mself\u001b[39m\u001b[39m.\u001b[39mrender_mode \u001b[39m==\u001b[39m \u001b[39m\"\u001b[39m\u001b[39mrgb_array\u001b[39m\u001b[39m\"\u001b[39m:\n",
      "\u001b[0;31mKeyboardInterrupt\u001b[0m: "
     ]
    }
   ],
   "source": [
    "env = gym.make(\"MiniGrid-UnlockPickup-v0\", render_mode=\"human\")\n",
    "env = ImgObsWrapper(env)\n",
    "model_ctrl = PPO.load(CONTROL_MODEL_PATH, env=env)\n",
    "_, obs = env.reset()\n",
    "eval(env, model, 100, \"PPO Control\", \"red\")\n",
    "\n",
    "env = gym.make(\"MiniGrid-UnlockPickup-v0\", render_mode=\"rgb_array\")\n",
    "env = ImgObsWrapper(env)\n",
    "model_transfer = PPO.load(TRANSFER_MODEL_PATH, env=env)\n",
    "_, obs = env.reset()\n",
    "eval(env, model, 100, \"PPO Control\", \"red\")"
   ]
  }
 ],
 "metadata": {
  "kernelspec": {
   "display_name": "Python 3",
   "language": "python",
   "name": "python3"
  },
  "language_info": {
   "codemirror_mode": {
    "name": "ipython",
    "version": 3
   },
   "file_extension": ".py",
   "mimetype": "text/x-python",
   "name": "python",
   "nbconvert_exporter": "python",
   "pygments_lexer": "ipython3",
   "version": "3.10.8"
  }
 },
 "nbformat": 4,
 "nbformat_minor": 2
}
